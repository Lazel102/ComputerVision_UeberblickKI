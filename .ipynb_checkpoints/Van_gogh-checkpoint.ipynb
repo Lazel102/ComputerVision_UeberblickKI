{
 "cells": [
  {
   "cell_type": "markdown",
   "metadata": {},
   "source": [
    "# Computer Vision\n",
    "\n",
    "This notebook is aims to make the theoretical concepts and tools I introduce in the presenation more tangible. I will use the CVopen library as one of the most prominent libraries for Computer Vision. Each student can use the notebook as a basis to create his or her own Computer Vision tools."
   ]
  },
  {
   "cell_type": "code",
   "execution_count": 1,
   "metadata": {},
   "outputs": [],
   "source": [
    "import cv2 #CV2 Library for Computer Vision\n",
    "import numpy as np\n",
    "from matplotlib import pyplot as plt\n",
    "import matplotlib.image as mp_img"
   ]
  },
  {
   "cell_type": "code",
   "execution_count": 2,
   "metadata": {},
   "outputs": [],
   "source": [
    "#Function which takes an image (Numpy matrix) and shows it\n",
    "def show(img):\n",
    "    cv2.imshow('image',np.uint8(img))\n",
    "    cv2.waitKey(0)\n",
    "    cv2.destroyAllWindows()\n",
    "#Read Image file to a variable \n",
    "van_gogh=cv2.imread('inputs/van_gogh.jpg' )\n",
    "#Show Image. Press any key to escape...\n",
    "show(van_gogh)"
   ]
  },
  {
   "cell_type": "markdown",
   "metadata": {},
   "source": [
    "## Image Represantation\n",
    "As we now know Every Image can be thought of as a matrix of pixels with x and y coordinates. Let's see how this is implemented in CVopen"
   ]
  },
  {
   "cell_type": "code",
   "execution_count": 5,
   "metadata": {},
   "outputs": [
    {
     "name": "stdout",
     "output_type": "stream",
     "text": [
      "(1200, 1193)\n"
     ]
    },
    {
     "data": {
      "text/plain": [
       "array([[168, 174, 173, ...,  37,  41,  39],\n",
       "       [171, 177, 176, ...,  36,  41,  36],\n",
       "       [174, 181, 180, ...,  35,  40,  34],\n",
       "       ...,\n",
       "       [ 57,  58,  58, ...,  60,  62,  54],\n",
       "       [122, 115, 107, ...,  65,  65,  68],\n",
       "       [127, 124, 120, ...,  71,  68,  65]], dtype=uint8)"
      ]
     },
     "execution_count": 5,
     "metadata": {},
     "output_type": "execute_result"
    }
   ],
   "source": [
    "print(van_gogh.shape)\n",
    "van_gogh"
   ]
  },
  {
   "cell_type": "markdown",
   "metadata": {},
   "source": [
    "We learnt before, that we can transform an image from RGB to greyscale by building the mean of R,G and B components. Evidently CVopen includes a function, which realizes this task for us – let us even though try to implemente such a function by terms of matrix manipulation to get a feeling for the data structure."
   ]
  },
  {
   "cell_type": "code",
   "execution_count": 4,
   "metadata": {},
   "outputs": [],
   "source": [
    "#Function which takes an RGB Image and converts it to Greyscale\n",
    "def toGray(img):\n",
    "    gray = np.ndarray(shape=img.shape[0:2], dtype=int, order='F')\n",
    "    index_x=0\n",
    "    for x in img:\n",
    "        index_y=0\n",
    "        for y in x:\n",
    "            gray[index_x,index_y]=y.mean()\n",
    "            index_y+=1\n",
    "        index_x+=1\n",
    "    return np.uint8(gray)\n",
    "gray= toGray(van_gogh)\n",
    "show(gray)\n",
    "van_gogh=gray"
   ]
  },
  {
   "cell_type": "markdown",
   "metadata": {},
   "source": [
    "## Filter\n",
    "Let us now try out some filter actions. The function XXXX takes a kernel a image and an additional parameter as an argument (ADD SENSE OF PARAMETER). It then calculates G(x,y) as just explained in the presentation. Let us go through the examples. "
   ]
  },
  {
   "cell_type": "code",
   "execution_count": 6,
   "metadata": {},
   "outputs": [],
   "source": [
    "def convolution(img,kernel,method):\n",
    "    print(method)\n",
    "    print(\"H(x) is :\")\n",
    "    print(kernel)\n",
    "    van_gogh_filter = cv2.filter2D(img,-1,kernel)\n",
    "    show(van_gogh_filter)\n",
    "    # cv2.imwrite(method+\".jpg\", van_gogh_filter)\n",
    "    return van_gogh_filter\n"
   ]
  },
  {
   "cell_type": "markdown",
   "metadata": {},
   "source": [
    "### Mean"
   ]
  },
  {
   "cell_type": "code",
   "execution_count": 7,
   "metadata": {},
   "outputs": [
    {
     "name": "stdout",
     "output_type": "stream",
     "text": [
      "Mean\n",
      "H(x) is :\n",
      "[[0.01 0.01 0.01 0.01 0.01 0.01 0.01 0.01 0.01 0.01]\n",
      " [0.01 0.01 0.01 0.01 0.01 0.01 0.01 0.01 0.01 0.01]\n",
      " [0.01 0.01 0.01 0.01 0.01 0.01 0.01 0.01 0.01 0.01]\n",
      " [0.01 0.01 0.01 0.01 0.01 0.01 0.01 0.01 0.01 0.01]\n",
      " [0.01 0.01 0.01 0.01 0.01 0.01 0.01 0.01 0.01 0.01]\n",
      " [0.01 0.01 0.01 0.01 0.01 0.01 0.01 0.01 0.01 0.01]\n",
      " [0.01 0.01 0.01 0.01 0.01 0.01 0.01 0.01 0.01 0.01]\n",
      " [0.01 0.01 0.01 0.01 0.01 0.01 0.01 0.01 0.01 0.01]\n",
      " [0.01 0.01 0.01 0.01 0.01 0.01 0.01 0.01 0.01 0.01]\n",
      " [0.01 0.01 0.01 0.01 0.01 0.01 0.01 0.01 0.01 0.01]]\n"
     ]
    }
   ],
   "source": [
    "#Mean\n",
    "mean=convolution(van_gogh,np.ones((10,10),np.float32)/100,\"Mean\")"
   ]
  },
  {
   "cell_type": "markdown",
   "metadata": {},
   "source": [
    "### Sharpening"
   ]
  },
  {
   "cell_type": "code",
   "execution_count": 8,
   "metadata": {},
   "outputs": [
    {
     "name": "stdout",
     "output_type": "stream",
     "text": [
      "Sharpening\n",
      "H(x) is :\n",
      "[[ 0 -1  0]\n",
      " [-1  5 -1]\n",
      " [ 0 -1  0]]\n"
     ]
    }
   ],
   "source": [
    "#Sharpening\n",
    "kernel = np.array([[0, -1, 0],\n",
    "                   [-1, 5, -1],\n",
    "                   [0, -1, 0]])\n",
    "sharp= convolution(van_gogh,kernel,\"Sharpening\")"
   ]
  },
  {
   "cell_type": "markdown",
   "metadata": {},
   "source": [
    "### Gaussian"
   ]
  },
  {
   "cell_type": "code",
   "execution_count": 10,
   "metadata": {},
   "outputs": [
    {
     "name": "stdout",
     "output_type": "stream",
     "text": [
      "Gaussian\n",
      "H(x) is :\n",
      "[[2.55480093e-10 1.39487404e-08 2.80167941e-07 2.07017663e-06\n",
      "  5.62732353e-06 5.62732353e-06 2.07017663e-06 2.80167941e-07\n",
      "  1.39487404e-08 2.55480093e-10]\n",
      " [1.39487404e-08 7.61575423e-07 1.52966513e-05 1.13027814e-04\n",
      "  3.07241454e-04 3.07241454e-04 1.13027814e-04 1.52966513e-05\n",
      "  7.61575423e-07 1.39487404e-08]\n",
      " [2.80167941e-07 1.52966513e-05 3.07241454e-04 2.27022434e-03\n",
      "  6.17110957e-03 6.17110957e-03 2.27022434e-03 3.07241454e-04\n",
      "  1.52966513e-05 2.80167941e-07]\n",
      " [2.07017663e-06 1.13027814e-04 2.27022434e-03 1.67748150e-02\n",
      "  4.55986748e-02 4.55986748e-02 1.67748150e-02 2.27022434e-03\n",
      "  1.13027814e-04 2.07017663e-06]\n",
      " [5.62732353e-06 3.07241454e-04 6.17110957e-03 4.55986748e-02\n",
      "  1.23950049e-01 1.23950049e-01 4.55986748e-02 6.17110957e-03\n",
      "  3.07241454e-04 5.62732353e-06]\n",
      " [5.62732353e-06 3.07241454e-04 6.17110957e-03 4.55986748e-02\n",
      "  1.23950049e-01 1.23950049e-01 4.55986748e-02 6.17110957e-03\n",
      "  3.07241454e-04 5.62732353e-06]\n",
      " [2.07017663e-06 1.13027814e-04 2.27022434e-03 1.67748150e-02\n",
      "  4.55986748e-02 4.55986748e-02 1.67748150e-02 2.27022434e-03\n",
      "  1.13027814e-04 2.07017663e-06]\n",
      " [2.80167941e-07 1.52966513e-05 3.07241454e-04 2.27022434e-03\n",
      "  6.17110957e-03 6.17110957e-03 2.27022434e-03 3.07241454e-04\n",
      "  1.52966513e-05 2.80167941e-07]\n",
      " [1.39487404e-08 7.61575423e-07 1.52966513e-05 1.13027814e-04\n",
      "  3.07241454e-04 3.07241454e-04 1.13027814e-04 1.52966513e-05\n",
      "  7.61575423e-07 1.39487404e-08]\n",
      " [2.55480093e-10 1.39487404e-08 2.80167941e-07 2.07017663e-06\n",
      "  5.62732353e-06 5.62732353e-06 2.07017663e-06 2.80167941e-07\n",
      "  1.39487404e-08 2.55480093e-10]]\n"
     ]
    }
   ],
   "source": [
    "#Gaussian\n",
    "def gkern(l, sig):\n",
    "    \"\"\"\\\n",
    "    creates gaussian kernel with side length l and a sigma of sig\n",
    "    \"\"\"\n",
    "\n",
    "    ax = np.linspace(-(l - 1) / 2., (l - 1) / 2., l)\n",
    "    xx, yy = np.meshgrid(ax, ax)\n",
    "\n",
    "    kernel = np.exp(-0.5 * (np.square(xx) + np.square(yy)) / np.square(sig))\n",
    "\n",
    "    return kernel / np.sum(kernel)\n",
    "\n",
    "kernel = gkern(10,1)\n",
    "\n",
    "\n",
    "gauss = convolution(van_gogh,kernel,\"Gaussian\")"
   ]
  },
  {
   "cell_type": "markdown",
   "metadata": {},
   "source": [
    "### La Place"
   ]
  },
  {
   "cell_type": "code",
   "execution_count": 9,
   "metadata": {},
   "outputs": [
    {
     "name": "stdout",
     "output_type": "stream",
     "text": [
      "Laplace\n",
      "H(x) is :\n",
      "[[ 0  1  0]\n",
      " [ 1 -4  1]\n",
      " [ 0  1  0]]\n"
     ]
    }
   ],
   "source": [
    "# Laplace\n",
    "kernel = np.array([[0, 1, 0],\n",
    "                   [1, -4, 1],\n",
    "                   [0, 1, 0]])\n",
    "\n",
    "laplace= convolution(van_gogh,kernel,\"Laplace\")"
   ]
  },
  {
   "cell_type": "markdown",
   "metadata": {},
   "source": [
    "### Sobbel"
   ]
  },
  {
   "cell_type": "code",
   "execution_count": null,
   "metadata": {},
   "outputs": [],
   "source": [
    "#Sobbel\n",
    "\n",
    "kernel = np.array([[-1, 0, 1],\n",
    "                   [-2, 0, 2],\n",
    "                   [-1, 0, 1]])\n",
    "\n",
    "Gx = convolution(mean,kernel,\"Gx\")\n",
    "\n",
    "kernel = np.array([[-1, -2, -1],\n",
    "                   [0, 0, 0],\n",
    "                   [1, 2, 1]])\n",
    "\n",
    "Gy = convolution(mean,kernel,\"Gy\")\n",
    "\n",
    "Sobbel=np.sqrt(np.square(Gx)+np.square(Gy))\n",
    "Sobbel = (Sobbel / np.max(Sobbel)) * 100\n",
    "show(Sobbel)\n",
    "#cv2.imwrite(\"Sobbel.jpg\", np.uint8(Sobbel))"
   ]
  },
  {
   "cell_type": "markdown",
   "metadata": {},
   "source": [
    "## Edge Detection\n",
    "Here we will try to get a bit familiar with the image gradient. Therefore we will take a look at a tiny part of our big picture."
   ]
  },
  {
   "cell_type": "code",
   "execution_count": null,
   "metadata": {},
   "outputs": [],
   "source": [
    "#Load image and resize it\n",
    "edge=cv2.imread('inputs/edge.png')\n",
    "edge=toGray(edge)\n",
    "height, width = 20,20\n",
    "\n",
    "# Desired \"pixelated\" size\n",
    "w, h = (20, 20)\n",
    "\n",
    "# Resize input to \"pixelated\" size\n",
    "temp = cv2.resize(edge, (w, h), interpolation=cv2.INTER_LINEAR)\n",
    "\n",
    "# Initialize output image\n",
    "output = cv2.resize(temp, (width, height), interpolation=cv2.INTER_NEAREST)\n",
    "\n",
    "show(output)\n",
    "\n"
   ]
  },
  {
   "cell_type": "code",
   "execution_count": null,
   "metadata": {},
   "outputs": [],
   "source": [
    "# surface map\n",
    "plt.figure(figsize=(20, 6), dpi=1500)\n",
    "\n",
    "ax = plt.axes(projection='3d')\n",
    "\n",
    "y = range( output.shape[0] )\n",
    "x = range( output.shape[1] ) \n",
    "X, Y = np.meshgrid(x, y)\n",
    "\n",
    "ax.plot_surface( X, Y, output[:,:] )\n",
    "ax.view_init(-140, 60)\n",
    "ax.invert_zaxis()\n",
    "plt.show()"
   ]
  },
  {
   "cell_type": "code",
   "execution_count": null,
   "metadata": {},
   "outputs": [],
   "source": [
    "sift =  cv2.SIFT_create()\n",
    "kp = sift.detect(gray,None)\n",
    "img=cv2.drawKeypoints(gray,kp,van_gogh)\n",
    "#cv2.imwrite('sift_keypoints.jpg',img)\n",
    "\n",
    "show(img)\n"
   ]
  }
 ],
 "metadata": {
  "kernelspec": {
   "display_name": "Python 3",
   "language": "python",
   "name": "python3"
  },
  "language_info": {
   "codemirror_mode": {
    "name": "ipython",
    "version": 3
   },
   "file_extension": ".py",
   "mimetype": "text/x-python",
   "name": "python",
   "nbconvert_exporter": "python",
   "pygments_lexer": "ipython3",
   "version": "3.8.5"
  }
 },
 "nbformat": 4,
 "nbformat_minor": 4
}
